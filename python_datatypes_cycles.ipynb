{
 "cells": [
  {
   "cell_type": "markdown",
   "metadata": {},
   "source": [
    "### Введение в типы данных и циклы"
   ]
  },
  {
   "cell_type": "code",
   "execution_count": 2,
   "metadata": {},
   "outputs": [
    {
     "data": {
      "text/plain": [
       "'\\n\\n1. Простые типы данных\\n2. Списки\\n3. Кортежи\\n4. Множества \\n5. Словари\\n6. Цикл while\\n7. Цикл for\\n\\n'"
      ]
     },
     "execution_count": 2,
     "metadata": {},
     "output_type": "execute_result"
    }
   ],
   "source": [
    "\"\"\"\n",
    "\n",
    "1. Простые типы данных\n",
    "2. Списки\n",
    "3. Кортежи\n",
    "4. Множества \n",
    "5. Словари\n",
    "6. Цикл while\n",
    "7. Цикл for\n",
    "\n",
    "\"\"\""
   ]
  },
  {
   "cell_type": "code",
   "execution_count": 3,
   "metadata": {},
   "outputs": [
    {
     "data": {
      "text/plain": [
       "'\\n1. Простые типы данных\\n    1. integer (int) целые\\n    2. float (float) числа с плавающей точкой\\n    3. string (str) строки\\n    4. boolean (bool) логический тип\\n    \\n# тип объекта можно узнать при помощи функции type()\\n# можно принудительно изменить тип данных вот так:\\nint() float() str() bool()\\n\\n\\n\\n'"
      ]
     },
     "execution_count": 3,
     "metadata": {},
     "output_type": "execute_result"
    }
   ],
   "source": [
    "\"\"\"\n",
    "1. Простые типы данных\n",
    "    1. integer (int) целые\n",
    "    2. float (float) числа с плавающей точкой\n",
    "    3. string (str) строки\n",
    "    4. boolean (bool) логический тип\n",
    "    \n",
    "# тип объекта можно узнать при помощи функции type()\n",
    "# можно принудительно изменить тип данных вот так:\n",
    "int() float() str() bool()\n",
    "\n",
    "\n",
    "\n",
    "\"\"\""
   ]
  },
  {
   "cell_type": "code",
   "execution_count": 4,
   "metadata": {},
   "outputs": [
    {
     "data": {
      "text/plain": [
       "int"
      ]
     },
     "execution_count": 4,
     "metadata": {},
     "output_type": "execute_result"
    }
   ],
   "source": [
    "integer = 10\n",
    "type(integer)"
   ]
  },
  {
   "cell_type": "code",
   "execution_count": 5,
   "metadata": {},
   "outputs": [
    {
     "data": {
      "text/plain": [
       "float"
      ]
     },
     "execution_count": 5,
     "metadata": {},
     "output_type": "execute_result"
    }
   ],
   "source": [
    "floating = 10.0\n",
    "type(floating)"
   ]
  },
  {
   "cell_type": "code",
   "execution_count": 6,
   "metadata": {},
   "outputs": [
    {
     "data": {
      "text/plain": [
       "bool"
      ]
     },
     "execution_count": 6,
     "metadata": {},
     "output_type": "execute_result"
    }
   ],
   "source": [
    "logical = True\n",
    "type(logical)"
   ]
  },
  {
   "cell_type": "code",
   "execution_count": 9,
   "metadata": {},
   "outputs": [
    {
     "name": "stdout",
     "output_type": "stream",
     "text": [
      "<class 'str'>\n",
      "<class 'str'>\n"
     ]
    }
   ],
   "source": [
    "string = 'some words'\n",
    "string_string = \"more words\"\n",
    "print(type(string))\n",
    "print(type(string_string))"
   ]
  },
  {
   "cell_type": "code",
   "execution_count": 16,
   "metadata": {},
   "outputs": [
    {
     "name": "stdout",
     "output_type": "stream",
     "text": [
      "Ваша годовая зарплата составляет 1000 условных единиц\n"
     ]
    }
   ],
   "source": [
    "salary = 1000\n",
    "x = ('Ваша годовая зарплата составляет ' + str(salary) + ' условных единиц')\n",
    "print(x)\n",
    "# преобразование int в str\n",
    "# конкатенация строк"
   ]
  },
  {
   "cell_type": "code",
   "execution_count": 17,
   "metadata": {},
   "outputs": [
    {
     "data": {
      "text/plain": [
       "10100"
      ]
     },
     "execution_count": 17,
     "metadata": {},
     "output_type": "execute_result"
    }
   ],
   "source": [
    "int('10000') + 100"
   ]
  },
  {
   "cell_type": "code",
   "execution_count": 18,
   "metadata": {},
   "outputs": [
    {
     "name": "stdout",
     "output_type": "stream",
     "text": [
      "2\n"
     ]
    }
   ],
   "source": [
    "print (1 + True)"
   ]
  },
  {
   "cell_type": "code",
   "execution_count": 19,
   "metadata": {},
   "outputs": [
    {
     "data": {
      "text/plain": [
       "\"\\nОперации со строками\\n1. конкатенация\\n2. умножение строки на число позволит повторить её n раз\\n3. .upper() приводит строку к верхнему регистру\\n4. .lower() приводит строку к нижнему регистру\\n5. .capitalize() приводит первую букву к верхнему регистру\\n6. .replace('что заменить', 'на что заменить') - меняет в строке каждый указанный элемент на другой\\n9. len(mystring) считает количество символов в строке\\n\\n\\n\\n\""
      ]
     },
     "execution_count": 19,
     "metadata": {},
     "output_type": "execute_result"
    }
   ],
   "source": [
    "\"\"\"\n",
    "Операции со строками\n",
    "1. конкатенация\n",
    "2. умножение строки на число позволит повторить её n раз\n",
    "3. .upper() приводит строку к верхнему регистру\n",
    "4. .lower() приводит строку к нижнему регистру\n",
    "5. .capitalize() приводит первую букву к верхнему регистру\n",
    "6. .replace('что заменить', 'на что заменить') - меняет в строке каждый указанный элемент на другой\n",
    "9. len(mystring) считает количество символов в строке\n",
    "\n",
    "\n",
    "\n",
    "\"\"\""
   ]
  },
  {
   "cell_type": "code",
   "execution_count": 36,
   "metadata": {},
   "outputs": [
    {
     "name": "stdout",
     "output_type": "stream",
     "text": [
      "сегодня такой себе день для прогулки в парке\n",
      "сегодня хороший день для прогулки в парке\n"
     ]
    }
   ],
   "source": [
    "x = 'сегодня хороший день для прогулки в парке'\n",
    "n = x.replace('хороший', 'такой себе')\n",
    "print(n)\n",
    "print(x)\n",
    "#replace не меняет исходный элемент, но позволяет представить его иначе"
   ]
  },
  {
   "cell_type": "code",
   "execution_count": 27,
   "metadata": {},
   "outputs": [
    {
     "data": {
      "text/plain": [
       "3"
      ]
     },
     "execution_count": 27,
     "metadata": {},
     "output_type": "execute_result"
    }
   ],
   "source": [
    "1 + 2"
   ]
  },
  {
   "cell_type": "code",
   "execution_count": 28,
   "metadata": {},
   "outputs": [
    {
     "data": {
      "text/plain": [
       "'12'"
      ]
     },
     "execution_count": 28,
     "metadata": {},
     "output_type": "execute_result"
    }
   ],
   "source": [
    "'1' + '2'"
   ]
  },
  {
   "cell_type": "code",
   "execution_count": 34,
   "metadata": {},
   "outputs": [
    {
     "data": {
      "text/plain": [
       "'ХОЧУ КУШАЦЬ'"
      ]
     },
     "execution_count": 34,
     "metadata": {},
     "output_type": "execute_result"
    }
   ],
   "source": [
    "mystring = 'ХОЧУ кушаць'\n",
    "mystring.upper()"
   ]
  },
  {
   "cell_type": "code",
   "execution_count": 35,
   "metadata": {},
   "outputs": [
    {
     "data": {
      "text/plain": [
       "'хочу кушаць'"
      ]
     },
     "execution_count": 35,
     "metadata": {},
     "output_type": "execute_result"
    }
   ],
   "source": [
    "mystring.lower()"
   ]
  },
  {
   "cell_type": "code",
   "execution_count": 42,
   "metadata": {},
   "outputs": [
    {
     "name": "stdout",
     "output_type": "stream",
     "text": [
      "И\n",
      "И\n"
     ]
    },
    {
     "data": {
      "text/plain": [
       "'ИД'"
      ]
     },
     "execution_count": 42,
     "metadata": {},
     "output_type": "execute_result"
    }
   ],
   "source": [
    "# так выглядят индексы\n",
    "\n",
    "my_string = 'ИНДЕКС'\n",
    "\n",
    "print(my_string[0])\n",
    "print(my_string[-6])\n",
    "# можно считать с начала любого индекса, с номера 0\n",
    "# можно считать с конца с номера -1\n",
    "# крайнее значение в индексе не считается, это была бы буква 'К'.\n",
    "\n",
    "\n",
    "my_string[0:4:2]"
   ]
  },
  {
   "cell_type": "code",
   "execution_count": 43,
   "metadata": {},
   "outputs": [
    {
     "data": {
      "text/plain": [
       "'\\nОператоры вхождения:\\nin - возвращает True, если элемент включён в объект\\nnot in - True, если элемент не присутствует в объекте\\n\\n'"
      ]
     },
     "execution_count": 43,
     "metadata": {},
     "output_type": "execute_result"
    }
   ],
   "source": [
    "\"\"\"\n",
    "Операторы вхождения:\n",
    "in - возвращает True, если элемент включён в объект\n",
    "not in - True, если элемент не присутствует в объекте\n",
    "\n",
    "\"\"\""
   ]
  },
  {
   "cell_type": "code",
   "execution_count": 72,
   "metadata": {},
   "outputs": [
    {
     "name": "stdout",
     "output_type": "stream",
     "text": [
      "Хеллоу, oleg, я вижу, ты тоже человек культуры и немного знаешь python, не так ли?\n"
     ]
    }
   ],
   "source": [
    "# f-строки - позволяют встраивать в строку выражение при помощи {}\n",
    "name = 'oleg'\n",
    "lang = 'python'\n",
    "\n",
    "\n",
    "t = f\"Хеллоу, {name}, я вижу, ты тоже человек культуры и немного знаешь {lang}, не так ли?\"\n",
    "\n",
    "print(t)\n"
   ]
  },
  {
   "cell_type": "code",
   "execution_count": 73,
   "metadata": {},
   "outputs": [
    {
     "name": "stdout",
     "output_type": "stream",
     "text": [
      "Hello oleg, как ты живёшь-поживаешь, знаешь ли ты python?\n"
     ]
    }
   ],
   "source": [
    "print('Hello {}, как ты живёшь-поживаешь, знаешь ли ты {}?'.format(name, lang))"
   ]
  },
  {
   "cell_type": "code",
   "execution_count": 75,
   "metadata": {},
   "outputs": [
    {
     "name": "stdout",
     "output_type": "stream",
     "text": [
      "Hello oleg, как ты живёшь-поживаешь, знаешь ли ты python?\n"
     ]
    }
   ],
   "source": [
    "print(f'Hello {name}, как ты живёшь-поживаешь, знаешь ли ты {lang}?')\n",
    "# при помощи f можно сделать наглядным код, но он только в 3 питоне появился"
   ]
  },
  {
   "cell_type": "code",
   "execution_count": 51,
   "metadata": {},
   "outputs": [
    {
     "data": {
      "text/plain": [
       "'l'"
      ]
     },
     "execution_count": 51,
     "metadata": {},
     "output_type": "execute_result"
    }
   ],
   "source": [
    "new_str = 'Hello_World'\n",
    "new_str[2]\n"
   ]
  },
  {
   "cell_type": "code",
   "execution_count": 52,
   "metadata": {},
   "outputs": [
    {
     "data": {
      "text/plain": [
       "'o'"
      ]
     },
     "execution_count": 52,
     "metadata": {},
     "output_type": "execute_result"
    }
   ],
   "source": [
    "new_str[-4]"
   ]
  },
  {
   "cell_type": "code",
   "execution_count": 53,
   "metadata": {},
   "outputs": [
    {
     "data": {
      "text/plain": [
       "'Hello'"
      ]
     },
     "execution_count": 53,
     "metadata": {},
     "output_type": "execute_result"
    }
   ],
   "source": [
    "new_str[0:5]"
   ]
  },
  {
   "cell_type": "code",
   "execution_count": 55,
   "metadata": {},
   "outputs": [
    {
     "data": {
      "text/plain": [
       "'World'"
      ]
     },
     "execution_count": 55,
     "metadata": {},
     "output_type": "execute_result"
    }
   ],
   "source": [
    "new_str[6:]\n",
    "# все, что после 6"
   ]
  },
  {
   "cell_type": "code",
   "execution_count": 59,
   "metadata": {},
   "outputs": [
    {
     "data": {
      "text/plain": [
       "'Hell'"
      ]
     },
     "execution_count": 59,
     "metadata": {},
     "output_type": "execute_result"
    }
   ],
   "source": [
    "new_str[:4]\n",
    "# все, что до 5"
   ]
  },
  {
   "cell_type": "code",
   "execution_count": 62,
   "metadata": {},
   "outputs": [
    {
     "name": "stdout",
     "output_type": "stream",
     "text": [
      "o_O\n"
     ]
    }
   ],
   "source": [
    "# проверка на вхождение элемента в объкта\n",
    "\n",
    "white_str = 'Hello_Godblessed_World'\n",
    "target = 'o_G'\n",
    "\n",
    "if target in white_str:\n",
    "    #in возвращает труе\n",
    "    print('o_O')"
   ]
  },
  {
   "cell_type": "code",
   "execution_count": 78,
   "metadata": {},
   "outputs": [
    {
     "name": "stdout",
     "output_type": "stream",
     "text": [
      "[1, 2, 3, 5, 4]\n"
     ]
    }
   ],
   "source": [
    "\"\"\"\n",
    "списки - набор каких-то элементов\n",
    "элементы упорядочены\n",
    "\n",
    "\"\"\"\n",
    "\n",
    "x = [1, 2, 3, 5, 4]\n",
    "\n",
    "print(x)"
   ]
  },
  {
   "cell_type": "code",
   "execution_count": 93,
   "metadata": {},
   "outputs": [
    {
     "name": "stdout",
     "output_type": "stream",
     "text": [
      "[['jan', 1000], ['feb', 800], ['mar', 900]]\n"
     ]
    }
   ],
   "source": [
    "u = ['jan', 'feb', 'mar']\n",
    "\n",
    "j = [['jan', 1000], ['feb', 800], ['mar', 900]]\n",
    "\n",
    "print(j)"
   ]
  },
  {
   "cell_type": "code",
   "execution_count": 80,
   "metadata": {},
   "outputs": [
    {
     "data": {
      "text/plain": [
       "list"
      ]
     },
     "execution_count": 80,
     "metadata": {},
     "output_type": "execute_result"
    }
   ],
   "source": [
    "type(j)"
   ]
  },
  {
   "cell_type": "code",
   "execution_count": 94,
   "metadata": {},
   "outputs": [
    {
     "name": "stdout",
     "output_type": "stream",
     "text": [
      "feb\n",
      "['feb', 800]\n",
      "feb\n"
     ]
    }
   ],
   "source": [
    "# индексация элементов в списке\n",
    "print(u[1])\n",
    "print(j[-2])\n",
    "print(j[1][0])"
   ]
  },
  {
   "cell_type": "code",
   "execution_count": 104,
   "metadata": {},
   "outputs": [
    {
     "name": "stdout",
     "output_type": "stream",
     "text": [
      "[['jan', 1000], ['feb', 800]]\n",
      "[['feb', 800], ['mar', 900]]\n",
      "[['jan', 1000], ['feb', 800], ['mar', 900]]\n"
     ]
    }
   ],
   "source": [
    "# срезы\n",
    "print(j[0:2])\n",
    "print(j[1:])\n",
    "print(j[:18])\n",
    "#по списку срез итерирует один раз, в данном случае достаёт номера 15-17 (они же 0-2), они же 1-3 в привычном счете с единицы"
   ]
  },
  {
   "cell_type": "code",
   "execution_count": 111,
   "metadata": {},
   "outputs": [
    {
     "name": "stdout",
     "output_type": "stream",
     "text": [
      "[['jan', 1000], ['feb', 800]]\n"
     ]
    }
   ],
   "source": [
    "print(j[-445:-1])\n",
    "#начинает с самого глубокого элемента, и идёт до предшествующего -1 (-1 - это март), берёт февраль и всё, конец\n",
    "#при этом расставляет их в том же порядке, в котором они есть в списке"
   ]
  },
  {
   "cell_type": "code",
   "execution_count": 121,
   "metadata": {},
   "outputs": [
    {
     "name": "stdout",
     "output_type": "stream",
     "text": [
      "[['sep', 1000], ['feb', 800], ['mar', 900]]\n"
     ]
    }
   ],
   "source": [
    "j[0][0] = 'sep'\n",
    "print(j)\n"
   ]
  },
  {
   "cell_type": "code",
   "execution_count": 129,
   "metadata": {},
   "outputs": [],
   "source": [
    "j[0:2] = ['aug', 999], ['nov', 990]\n",
    "# можно менять несколько элементов списка"
   ]
  },
  {
   "cell_type": "code",
   "execution_count": 127,
   "metadata": {},
   "outputs": [
    {
     "data": {
      "text/plain": [
       "[['aug', 999], ['nov', 990]]"
      ]
     },
     "execution_count": 127,
     "metadata": {},
     "output_type": "execute_result"
    }
   ],
   "source": [
    "j[0:2]"
   ]
  },
  {
   "cell_type": "code",
   "execution_count": 128,
   "metadata": {},
   "outputs": [
    {
     "name": "stdout",
     "output_type": "stream",
     "text": [
      "[['aug', 999], ['nov', 990], ['mar', 900]]\n"
     ]
    }
   ],
   "source": [
    "print(j)"
   ]
  },
  {
   "cell_type": "code",
   "execution_count": 130,
   "metadata": {},
   "outputs": [
    {
     "name": "stdout",
     "output_type": "stream",
     "text": [
      "1 3\n"
     ]
    }
   ],
   "source": [
    "auf, gain = 1, 3\n",
    "print(auf, gain)"
   ]
  },
  {
   "cell_type": "code",
   "execution_count": 143,
   "metadata": {},
   "outputs": [
    {
     "data": {
      "text/plain": [
       "10"
      ]
     },
     "execution_count": 143,
     "metadata": {},
     "output_type": "execute_result"
    }
   ],
   "source": [
    "a=3\n",
    "\n",
    "a+=1 # a будет 4\n",
    "\n",
    "a-=1 # a будет опять 3\n",
    "\n",
    "a+=7 # a будет 10\n",
    "\n",
    "a"
   ]
  },
  {
   "cell_type": "code",
   "execution_count": 139,
   "metadata": {},
   "outputs": [
    {
     "name": "stdout",
     "output_type": "stream",
     "text": [
      "1\n"
     ]
    }
   ],
   "source": [
    "x = 0\n",
    "y = 0\n",
    "\n",
    "data = [[15], [14], [13], [11],\n",
    "    [46], [97], [12], [90],\n",
    "    [77], [44], [51], [71],\n",
    "    [63], [42], [88], [93]]\n",
    "\n",
    "y += 1 \n",
    "\n",
    "\n",
    "\n",
    "print(y)\n",
    "\n"
   ]
  },
  {
   "cell_type": "code",
   "execution_count": 141,
   "metadata": {},
   "outputs": [
    {
     "name": "stdout",
     "output_type": "stream",
     "text": [
      "Hello world.\n"
     ]
    }
   ],
   "source": [
    "mystring = \"Hello\"\n",
    "\n",
    "mystring += \" world.\" # будет \"Hello word.\"\n",
    "print(mystring)"
   ]
  },
  {
   "cell_type": "code",
   "execution_count": 145,
   "metadata": {},
   "outputs": [
    {
     "name": "stdout",
     "output_type": "stream",
     "text": [
      "abcdefghijklmnop\n",
      "bcdefghijklmno\n",
      "cdefghijklmn\n",
      "defghijklm\n",
      "efghijkl\n",
      "fghijk\n",
      "ghij\n",
      "hi\n"
     ]
    }
   ],
   "source": [
    "s = \"abcdefghijklmnop\"\n",
    "\n",
    "while s != \"\":\n",
    "\n",
    "  print(s)\n",
    "\n",
    "  s = s[1:-1]\n",
    "    \n",
    "    #while - пока в строке не будет 0 символов, печатай s отнимая по одной букве слева и справа"
   ]
  },
  {
   "cell_type": "code",
   "execution_count": 156,
   "metadata": {},
   "outputs": [
    {
     "name": "stdout",
     "output_type": "stream",
     "text": [
      "8 руб. 50 коп.\n"
     ]
    }
   ],
   "source": [
    "def cena(rub, kop=0):\n",
    "    return \"%i руб. %i коп.\" % (rub, kop)\n",
    "\n",
    "\n",
    "\n",
    "c = cena(8, 50)\n",
    "\n",
    "print(c)"
   ]
  },
  {
   "cell_type": "markdown",
   "metadata": {},
   "source": [
    "### Списки"
   ]
  },
  {
   "cell_type": "code",
   "execution_count": 4,
   "metadata": {},
   "outputs": [],
   "source": [
    "data = [1234, 29457, 1471947914791, 1311]"
   ]
  },
  {
   "cell_type": "code",
   "execution_count": 5,
   "metadata": {},
   "outputs": [
    {
     "name": "stdout",
     "output_type": "stream",
     "text": [
      "[1234, 29457, 1311]\n"
     ]
    }
   ],
   "source": [
    "del(data[2]);\n",
    "print(data)\n",
    "# удалить объект по номеру иначе"
   ]
  },
  {
   "cell_type": "code",
   "execution_count": 7,
   "metadata": {},
   "outputs": [
    {
     "name": "stdout",
     "output_type": "stream",
     "text": [
      "[29457, 1311]\n"
     ]
    }
   ],
   "source": [
    "data.remove(data[0]);\n",
    "print(data)\n",
    "# удалить объект по номеру"
   ]
  },
  {
   "cell_type": "code",
   "execution_count": 12,
   "metadata": {},
   "outputs": [
    {
     "name": "stdout",
     "output_type": "stream",
     "text": [
      "[29457, 1311, 131456, 131456, 131456, 131456]\n"
     ]
    }
   ],
   "source": [
    "data.append(131456);\n",
    "print(data)\n",
    "# добавить объект в конец списка"
   ]
  },
  {
   "cell_type": "code",
   "execution_count": 39,
   "metadata": {},
   "outputs": [
    {
     "name": "stdout",
     "output_type": "stream",
     "text": [
      "[29457, 1311, 131456, 131456]\n"
     ]
    }
   ],
   "source": [
    "data.remove(131456)\n",
    "print(data)\n",
    "# удалить конкретный объект"
   ]
  },
  {
   "cell_type": "code",
   "execution_count": 13,
   "metadata": {},
   "outputs": [
    {
     "data": {
      "text/plain": [
       "4"
      ]
     },
     "execution_count": 13,
     "metadata": {},
     "output_type": "execute_result"
    }
   ],
   "source": [
    "data.count(131456)"
   ]
  },
  {
   "cell_type": "code",
   "execution_count": 41,
   "metadata": {},
   "outputs": [
    {
     "name": "stdout",
     "output_type": "stream",
     "text": [
      "[29457, 1311, 11111111111111, 11111111111111, 131456, 131456]\n"
     ]
    }
   ],
   "source": [
    "data.insert(2, 11111111111111)\n",
    "print(data)\n",
    "# при этом меняются индексы всех, кто после нового"
   ]
  },
  {
   "cell_type": "code",
   "execution_count": 16,
   "metadata": {},
   "outputs": [
    {
     "data": {
      "text/plain": [
       "1"
      ]
     },
     "execution_count": 16,
     "metadata": {},
     "output_type": "execute_result"
    }
   ],
   "source": [
    "data.index(1311)\n",
    "# номер по счету, только первое вхождение"
   ]
  },
  {
   "cell_type": "code",
   "execution_count": 45,
   "metadata": {},
   "outputs": [
    {
     "name": "stdout",
     "output_type": "stream",
     "text": [
      "[29457, 1311, 11111111111111, 11111111111111, 131456, 131456]\n"
     ]
    },
    {
     "data": {
      "text/plain": [
       "2"
      ]
     },
     "execution_count": 45,
     "metadata": {},
     "output_type": "execute_result"
    }
   ],
   "source": [
    "print(data)\n",
    "data.index(11111111111111, 1)\n",
    "# если не первое вхождение в список"
   ]
  },
  {
   "cell_type": "code",
   "execution_count": 42,
   "metadata": {},
   "outputs": [
    {
     "data": {
      "text/plain": [
       "2"
      ]
     },
     "execution_count": 42,
     "metadata": {},
     "output_type": "execute_result"
    }
   ],
   "source": [
    "data.count(131456)\n",
    "# считать повторения"
   ]
  },
  {
   "cell_type": "code",
   "execution_count": 46,
   "metadata": {},
   "outputs": [
    {
     "data": {
      "text/plain": [
       "22222222515902"
      ]
     },
     "execution_count": 46,
     "metadata": {},
     "output_type": "execute_result"
    }
   ],
   "source": [
    "sum(data)"
   ]
  },
  {
   "cell_type": "code",
   "execution_count": 19,
   "metadata": {},
   "outputs": [
    {
     "name": "stdout",
     "output_type": "stream",
     "text": [
      "[29457, 1311, 131456, 131456, 131456, 131456]\n"
     ]
    }
   ],
   "source": [
    "data.reverse()\n",
    "print(data)\n",
    "# вообще списки изменяемы"
   ]
  },
  {
   "cell_type": "code",
   "execution_count": 47,
   "metadata": {},
   "outputs": [
    {
     "data": {
      "text/plain": [
       "11111111111111"
      ]
     },
     "execution_count": 47,
     "metadata": {},
     "output_type": "execute_result"
    }
   ],
   "source": [
    "max(data)"
   ]
  },
  {
   "cell_type": "code",
   "execution_count": 21,
   "metadata": {},
   "outputs": [
    {
     "name": "stdout",
     "output_type": "stream",
     "text": [
      "[1311, 29457, 131456, 131456, 131456, 131456]\n"
     ]
    }
   ],
   "source": [
    "sorted(data)\n",
    "print(sorted(data))\n",
    "# но сортед не меняет сам список"
   ]
  },
  {
   "cell_type": "code",
   "execution_count": 49,
   "metadata": {},
   "outputs": [
    {
     "data": {
      "text/plain": [
       "[11111111111111, 11111111111111, 131456, 131456, 29457, 1311]"
      ]
     },
     "execution_count": 49,
     "metadata": {},
     "output_type": "execute_result"
    }
   ],
   "source": [
    "sorted(data, reverse = True)"
   ]
  },
  {
   "cell_type": "code",
   "execution_count": 48,
   "metadata": {},
   "outputs": [
    {
     "data": {
      "text/plain": [
       "1311"
      ]
     },
     "execution_count": 48,
     "metadata": {},
     "output_type": "execute_result"
    }
   ],
   "source": [
    "min(data)"
   ]
  },
  {
   "cell_type": "code",
   "execution_count": 23,
   "metadata": {},
   "outputs": [
    {
     "data": {
      "text/plain": [
       "'первый'"
      ]
     },
     "execution_count": 23,
     "metadata": {},
     "output_type": "execute_result"
    }
   ],
   "source": [
    "first, second, third = ['первый', 'второй', 'третий']\n",
    "first"
   ]
  },
  {
   "cell_type": "code",
   "execution_count": 26,
   "metadata": {},
   "outputs": [
    {
     "data": {
      "text/plain": [
       "'второй'"
      ]
     },
     "execution_count": 26,
     "metadata": {},
     "output_type": "execute_result"
    }
   ],
   "source": [
    "data3 = ['первый', 'второй', 'третий']\n",
    "data3[0] = second\n",
    "second"
   ]
  },
  {
   "cell_type": "code",
   "execution_count": 27,
   "metadata": {},
   "outputs": [
    {
     "name": "stdout",
     "output_type": "stream",
     "text": [
      "первый\n",
      "['второй', 'третий']\n"
     ]
    }
   ],
   "source": [
    "first, *anotherall = ['первый', 'второй', 'третий']\n",
    "print(first)\n",
    "print(anotherall)"
   ]
  },
  {
   "cell_type": "code",
   "execution_count": 29,
   "metadata": {},
   "outputs": [
    {
     "data": {
      "text/plain": [
       "str"
      ]
     },
     "execution_count": 29,
     "metadata": {},
     "output_type": "execute_result"
    }
   ],
   "source": [
    "type(first)\n"
   ]
  },
  {
   "cell_type": "code",
   "execution_count": 30,
   "metadata": {},
   "outputs": [
    {
     "data": {
      "text/plain": [
       "list"
      ]
     },
     "execution_count": 30,
     "metadata": {},
     "output_type": "execute_result"
    }
   ],
   "source": [
    "type(anotherall)"
   ]
  },
  {
   "cell_type": "code",
   "execution_count": 34,
   "metadata": {},
   "outputs": [
    {
     "name": "stdout",
     "output_type": "stream",
     "text": [
      "первый\n",
      "['второй', 'третий', 'четвертый', 'пятый']\n",
      "шестой\n"
     ]
    }
   ],
   "source": [
    "first, *another, last = ['первый', 'второй', 'третий', 'четвертый', 'пятый', 'шестой'];\n",
    "\n",
    "print(first)\n",
    "print(another)\n",
    "print(last)"
   ]
  },
  {
   "cell_type": "code",
   "execution_count": 35,
   "metadata": {},
   "outputs": [
    {
     "data": {
      "text/plain": [
       "[29457, 1311, 131456, 131456, 131456, 131456]"
      ]
     },
     "execution_count": 35,
     "metadata": {},
     "output_type": "execute_result"
    }
   ],
   "source": [
    "data"
   ]
  },
  {
   "cell_type": "markdown",
   "metadata": {},
   "source": [
    "### Изменение списков"
   ]
  },
  {
   "cell_type": "code",
   "execution_count": 51,
   "metadata": {},
   "outputs": [
    {
     "data": {
      "text/plain": [
       "(1895364764864, 1895364764864)"
      ]
     },
     "execution_count": 51,
     "metadata": {},
     "output_type": "execute_result"
    }
   ],
   "source": [
    "a_n = [1, 2, 3]\n",
    "b_n = a_n\n",
    "\n",
    "# в дествительности новый объект не создаётся, это два указателя на один и тот же список\n",
    "id(a_n), id(b_n)"
   ]
  },
  {
   "cell_type": "code",
   "execution_count": 52,
   "metadata": {},
   "outputs": [],
   "source": [
    "import copy"
   ]
  },
  {
   "cell_type": "code",
   "execution_count": 55,
   "metadata": {},
   "outputs": [
    {
     "name": "stdout",
     "output_type": "stream",
     "text": [
      "[1, 2, 3, 4, 5, 6]\n",
      "[1, 2, 3, 4, 5, 6, 7]\n"
     ]
    }
   ],
   "source": [
    "a__ = [1, 2, 3, 4, 5, 6]\n",
    "b__ = copy.copy(a__)\n",
    "# библиотека копи . метод копи\n",
    "\n",
    "b__.append(7)\n",
    "\n",
    "print(a__)\n",
    "print(b__)"
   ]
  },
  {
   "cell_type": "markdown",
   "metadata": {},
   "source": [
    "### Кортежи"
   ]
  },
  {
   "cell_type": "code",
   "execution_count": 66,
   "metadata": {},
   "outputs": [
    {
     "data": {
      "text/plain": [
       "['белый виноград']"
      ]
     },
     "execution_count": 66,
     "metadata": {},
     "output_type": "execute_result"
    }
   ],
   "source": [
    "# это не кортежи ещё\n",
    "\n",
    "queries = 'яблоки, груши, белый виноград, помидоры, абрикосы, черешя, манго'\n",
    "queries_list = queries.split(', ')\n",
    "queries_list[2].split(', ')\n",
    "#разбить строку на отдельные строки, с ними можно взаимодействовать отдельно"
   ]
  },
  {
   "cell_type": "code",
   "execution_count": 65,
   "metadata": {},
   "outputs": [
    {
     "data": {
      "text/plain": [
       "2"
      ]
     },
     "execution_count": 65,
     "metadata": {},
     "output_type": "execute_result"
    }
   ],
   "source": [
    "len(queries_list[2].split(' '))\n",
    "# длина поискового запроса в словах"
   ]
  },
  {
   "cell_type": "code",
   "execution_count": 72,
   "metadata": {},
   "outputs": [
    {
     "name": "stdout",
     "output_type": "stream",
     "text": [
      "Столбец 1\tСтолбец 2\tСтолбец 3\n",
      "Столбец 1, Столбец 2, Столбец 3\n"
     ]
    }
   ],
   "source": [
    "# Преобразование списка в строку\n",
    "\n",
    "print('\\t'.join(['Столбец 1', 'Столбец 2', 'Столбец 3']))\n",
    "# \\t = табуляция\n",
    "\n",
    "print(', '.join(['Столбец 1', 'Столбец 2', 'Столбец 3']))"
   ]
  },
  {
   "cell_type": "code",
   "execution_count": 73,
   "metadata": {},
   "outputs": [],
   "source": [
    "# теперь кортежи!!!\n",
    "\n",
    "# tuples = неизменяемые списки, удалять или добавлять элементы в кортеж нельзя\n",
    "\n",
    "# кортежи инициализируются при помощи ()\n",
    "\n",
    "# кортежи занимают в памяти меньше места\n",
    "\n",
    "# функция zip - делает из других списков не список списков, а список кортежей\n",
    "\n"
   ]
  },
  {
   "cell_type": "code",
   "execution_count": 74,
   "metadata": {},
   "outputs": [
    {
     "data": {
      "text/plain": [
       "tuple"
      ]
     },
     "execution_count": 74,
     "metadata": {},
     "output_type": "execute_result"
    }
   ],
   "source": [
    "salary_tuple = (1000, 1200, 400, 600, 1800)\n",
    "type(salary_tuple)"
   ]
  },
  {
   "cell_type": "code",
   "execution_count": 76,
   "metadata": {},
   "outputs": [
    {
     "name": "stdout",
     "output_type": "stream",
     "text": [
      "[1000, 1200, 400, 600, 1800]\n"
     ]
    }
   ],
   "source": [
    "print(list(salary_tuple))\n"
   ]
  },
  {
   "cell_type": "code",
   "execution_count": 77,
   "metadata": {},
   "outputs": [
    {
     "ename": "TypeError",
     "evalue": "'tuple' object does not support item assignment",
     "output_type": "error",
     "traceback": [
      "\u001b[1;31m---------------------------------------------------------------------------\u001b[0m",
      "\u001b[1;31mTypeError\u001b[0m                                 Traceback (most recent call last)",
      "\u001b[1;32m<ipython-input-77-7d5f92d11407>\u001b[0m in \u001b[0;36m<module>\u001b[1;34m\u001b[0m\n\u001b[1;32m----> 1\u001b[1;33m \u001b[0msalary_tuple\u001b[0m\u001b[1;33m[\u001b[0m\u001b[1;36m0\u001b[0m\u001b[1;33m]\u001b[0m \u001b[1;33m=\u001b[0m \u001b[1;36m500\u001b[0m\u001b[1;33m\u001b[0m\u001b[1;33m\u001b[0m\u001b[0m\n\u001b[0m",
      "\u001b[1;31mTypeError\u001b[0m: 'tuple' object does not support item assignment"
     ]
    }
   ],
   "source": [
    "salary_tuple[0] = 500\n",
    "# нельзя"
   ]
  },
  {
   "cell_type": "code",
   "execution_count": 78,
   "metadata": {},
   "outputs": [
    {
     "data": {
      "text/plain": [
       "tuple"
      ]
     },
     "execution_count": 78,
     "metadata": {},
     "output_type": "execute_result"
    }
   ],
   "source": [
    "# кортеж из одного элемента\n",
    "t = ('one', )\n",
    "type(t)\n",
    "# без запятой получится строка"
   ]
  },
  {
   "cell_type": "code",
   "execution_count": 80,
   "metadata": {},
   "outputs": [
    {
     "name": "stdout",
     "output_type": "stream",
     "text": [
      "<zip object at 0x000001B94C8CA500>\n"
     ]
    }
   ],
   "source": [
    "# функция зип склеивает 2 и более элемента\n",
    "\n",
    "salaries = [100, 2000, 900, 456, 18]\n",
    "names = ['Liza', 'Martin', 'Bob', 'Claus', 'Timoty']\n",
    "salaries_by_names = zip(names, salaries)\n",
    "print(salaries_by_names) # зип - это генератор"
   ]
  },
  {
   "cell_type": "code",
   "execution_count": 81,
   "metadata": {},
   "outputs": [
    {
     "data": {
      "text/plain": [
       "[('Liza', 100), ('Martin', 2000), ('Bob', 900), ('Claus', 456), ('Timoty', 18)]"
      ]
     },
     "execution_count": 81,
     "metadata": {},
     "output_type": "execute_result"
    }
   ],
   "source": [
    "list(salaries_by_names)"
   ]
  },
  {
   "cell_type": "markdown",
   "metadata": {},
   "source": [
    "### Циклы while и for"
   ]
  },
  {
   "cell_type": "code",
   "execution_count": null,
   "metadata": {},
   "outputs": [],
   "source": [
    "# Циклы позволяют выполнять повторяемые действия\n",
    "\n",
    "# while - до того, как (если количество шагов неизвестно)\n",
    "\n",
    "# for - записывает в переменную значений конечное количество раз\n",
    "\n",
    "# операторы: break, coninue, pass, "
   ]
  },
  {
   "cell_type": "code",
   "execution_count": 87,
   "metadata": {},
   "outputs": [
    {
     "name": "stdout",
     "output_type": "stream",
     "text": [
      "7 - Нечетное число\n"
     ]
    }
   ],
   "source": [
    "x = 7\n",
    "while x != 0:\n",
    "    if x % 2 == 0:\n",
    "        print(x, '- Четное число')\n",
    "    else:\n",
    "        print(x, '- Нечетное число')\n",
    "    x = x - 1\n",
    "    break"
   ]
  },
  {
   "cell_type": "code",
   "execution_count": 85,
   "metadata": {},
   "outputs": [
    {
     "name": "stdout",
     "output_type": "stream",
     "text": [
      "4\n"
     ]
    }
   ],
   "source": [
    "x = 5\n",
    "while x != 0:\n",
    "    x = x - 1\n",
    "    print(x)\n",
    "    break"
   ]
  },
  {
   "cell_type": "code",
   "execution_count": 90,
   "metadata": {},
   "outputs": [
    {
     "name": "stdout",
     "output_type": "stream",
     "text": [
      "O\n",
      "R\n",
      "A\n",
      "N\n",
      "G\n",
      "E\n"
     ]
    }
   ],
   "source": [
    "string_123 = 'Orange'\n",
    "for letter in string_123:\n",
    "    letter = letter.capitalize()\n",
    "    print(letter)\n",
    "    "
   ]
  },
  {
   "cell_type": "code",
   "execution_count": 91,
   "metadata": {},
   "outputs": [],
   "source": [
    "# итерация по спискам\n",
    "companies = [\n",
    "    ['one', 1.3],\n",
    "    ['two', 2.8],\n",
    "    ['three', 0.6]\n",
    "]"
   ]
  },
  {
   "cell_type": "code",
   "execution_count": 105,
   "metadata": {},
   "outputs": [
    {
     "name": "stdout",
     "output_type": "stream",
     "text": [
      "one capitalization is 1.3\n",
      "two capitalization is 2.8\n",
      "three capitalization is 0.6\n",
      "['three', 0.6]\n"
     ]
    }
   ],
   "source": [
    "for company in companies:\n",
    "    print(company[0], 'capitalization is', company[1]);\n",
    "print(company)\n",
    "#for заливает в company каждый раз новое значение, пока список не кончится, и каждый раз его выдаёт"
   ]
  },
  {
   "cell_type": "markdown",
   "metadata": {},
   "source": [
    "### break, pass, continue"
   ]
  },
  {
   "cell_type": "code",
   "execution_count": 1,
   "metadata": {},
   "outputs": [],
   "source": [
    "phrase = '640 КБ памяти с избытком хватит любому компьютеру'\n",
    "\n"
   ]
  },
  {
   "cell_type": "code",
   "execution_count": 5,
   "metadata": {},
   "outputs": [
    {
     "name": "stdout",
     "output_type": "stream",
     "text": [
      "6 4 0 "
     ]
    }
   ],
   "source": [
    "for letter in phrase:\n",
    "    if letter == ' ':\n",
    "        break # можно прекратить выполнение задачи\n",
    "    print(letter, end=' ')"
   ]
  },
  {
   "cell_type": "code",
   "execution_count": 6,
   "metadata": {},
   "outputs": [
    {
     "name": "stdout",
     "output_type": "stream",
     "text": [
      "6\n",
      "4\n",
      "0\n",
      "К\n",
      "Б\n",
      "п\n",
      "а\n",
      "м\n",
      "я\n",
      "т\n",
      "и\n",
      "с\n",
      "и\n",
      "з\n",
      "б\n",
      "ы\n",
      "т\n",
      "к\n",
      "о\n",
      "м\n",
      "х\n",
      "в\n",
      "а\n",
      "т\n",
      "и\n",
      "т\n",
      "л\n",
      "ю\n",
      "б\n",
      "о\n",
      "м\n",
      "у\n",
      "к\n",
      "о\n",
      "м\n",
      "п\n",
      "ь\n",
      "ю\n",
      "т\n",
      "е\n",
      "р\n",
      "у\n"
     ]
    }
   ],
   "source": [
    "for letter in phrase:\n",
    "    if letter == ' ':\n",
    "        continue # можно продолжить выполнение задачи\n",
    "    print(letter)"
   ]
  },
  {
   "cell_type": "code",
   "execution_count": 7,
   "metadata": {},
   "outputs": [
    {
     "name": "stdout",
     "output_type": "stream",
     "text": [
      "6\n",
      "4\n",
      "0\n",
      " \n",
      "К\n",
      "Б\n",
      " \n",
      "п\n",
      "а\n",
      "м\n",
      "я\n",
      "т\n",
      "и\n",
      " \n",
      "с\n",
      " \n",
      "и\n",
      "з\n",
      "б\n",
      "ы\n",
      "т\n",
      "к\n",
      "о\n",
      "м\n",
      " \n",
      "х\n",
      "в\n",
      "а\n",
      "т\n",
      "и\n",
      "т\n",
      " \n",
      "л\n",
      "ю\n",
      "б\n",
      "о\n",
      "м\n",
      "у\n",
      " \n",
      "к\n",
      "о\n",
      "м\n",
      "п\n",
      "ь\n",
      "ю\n",
      "т\n",
      "е\n",
      "р\n",
      "у\n"
     ]
    }
   ],
   "source": [
    "for letter in phrase:\n",
    "    if letter == ' ':\n",
    "        pass # нужен, чтобы позволить программе работать дальше без изменений\n",
    "    print(letter)"
   ]
  },
  {
   "cell_type": "code",
   "execution_count": null,
   "metadata": {},
   "outputs": [],
   "source": []
  }
 ],
 "metadata": {
  "kernelspec": {
   "display_name": "Python 3",
   "language": "python",
   "name": "python3"
  },
  "language_info": {
   "codemirror_mode": {
    "name": "ipython",
    "version": 3
   },
   "file_extension": ".py",
   "mimetype": "text/x-python",
   "name": "python",
   "nbconvert_exporter": "python",
   "pygments_lexer": "ipython3",
   "version": "3.8.3"
  }
 },
 "nbformat": 4,
 "nbformat_minor": 4
}
