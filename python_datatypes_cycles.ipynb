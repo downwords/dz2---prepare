{
 "cells": [
  {
   "cell_type": "markdown",
   "metadata": {},
   "source": [
    "### Введение в типы данных и циклы"
   ]
  },
  {
   "cell_type": "code",
   "execution_count": 2,
   "metadata": {},
   "outputs": [
    {
     "data": {
      "text/plain": [
       "'\\n\\n1. Простые типы данных\\n2. Списки\\n3. Кортежи\\n4. Множества \\n5. Словари\\n6. Цикл while\\n7. Цикл for\\n\\n'"
      ]
     },
     "execution_count": 2,
     "metadata": {},
     "output_type": "execute_result"
    }
   ],
   "source": [
    "\"\"\"\n",
    "\n",
    "1. Простые типы данных\n",
    "2. Списки\n",
    "3. Кортежи\n",
    "4. Множества \n",
    "5. Словари\n",
    "6. Цикл while\n",
    "7. Цикл for\n",
    "\n",
    "\"\"\""
   ]
  },
  {
   "cell_type": "code",
   "execution_count": 3,
   "metadata": {},
   "outputs": [
    {
     "data": {
      "text/plain": [
       "'\\n1. Простые типы данных\\n    1. integer (int) целые\\n    2. float (float) числа с плавающей точкой\\n    3. string (str) строки\\n    4. boolean (bool) логический тип\\n    \\n# тип объекта можно узнать при помощи функции type()\\n# можно принудительно изменить тип данных вот так:\\nint() float() str() bool()\\n\\n\\n\\n'"
      ]
     },
     "execution_count": 3,
     "metadata": {},
     "output_type": "execute_result"
    }
   ],
   "source": [
    "\"\"\"\n",
    "1. Простые типы данных\n",
    "    1. integer (int) целые\n",
    "    2. float (float) числа с плавающей точкой\n",
    "    3. string (str) строки\n",
    "    4. boolean (bool) логический тип\n",
    "    \n",
    "# тип объекта можно узнать при помощи функции type()\n",
    "# можно принудительно изменить тип данных вот так:\n",
    "int() float() str() bool()\n",
    "\n",
    "\n",
    "\n",
    "\"\"\""
   ]
  },
  {
   "cell_type": "code",
   "execution_count": 4,
   "metadata": {},
   "outputs": [
    {
     "data": {
      "text/plain": [
       "int"
      ]
     },
     "execution_count": 4,
     "metadata": {},
     "output_type": "execute_result"
    }
   ],
   "source": [
    "integer = 10\n",
    "type(integer)"
   ]
  },
  {
   "cell_type": "code",
   "execution_count": 5,
   "metadata": {},
   "outputs": [
    {
     "data": {
      "text/plain": [
       "float"
      ]
     },
     "execution_count": 5,
     "metadata": {},
     "output_type": "execute_result"
    }
   ],
   "source": [
    "floating = 10.0\n",
    "type(floating)"
   ]
  },
  {
   "cell_type": "code",
   "execution_count": 6,
   "metadata": {},
   "outputs": [
    {
     "data": {
      "text/plain": [
       "bool"
      ]
     },
     "execution_count": 6,
     "metadata": {},
     "output_type": "execute_result"
    }
   ],
   "source": [
    "logical = True\n",
    "type(logical)"
   ]
  },
  {
   "cell_type": "code",
   "execution_count": 9,
   "metadata": {},
   "outputs": [
    {
     "name": "stdout",
     "output_type": "stream",
     "text": [
      "<class 'str'>\n",
      "<class 'str'>\n"
     ]
    }
   ],
   "source": [
    "string = 'some words'\n",
    "string_string = \"more words\"\n",
    "print(type(string))\n",
    "print(type(string_string))"
   ]
  },
  {
   "cell_type": "code",
   "execution_count": 16,
   "metadata": {},
   "outputs": [
    {
     "name": "stdout",
     "output_type": "stream",
     "text": [
      "Ваша годовая зарплата составляет 1000 условных единиц\n"
     ]
    }
   ],
   "source": [
    "salary = 1000\n",
    "x = ('Ваша годовая зарплата составляет ' + str(salary) + ' условных единиц')\n",
    "print(x)\n",
    "# преобразование int в str\n",
    "# конкатенация строк"
   ]
  },
  {
   "cell_type": "code",
   "execution_count": 17,
   "metadata": {},
   "outputs": [
    {
     "data": {
      "text/plain": [
       "10100"
      ]
     },
     "execution_count": 17,
     "metadata": {},
     "output_type": "execute_result"
    }
   ],
   "source": [
    "int('10000') + 100"
   ]
  },
  {
   "cell_type": "code",
   "execution_count": 18,
   "metadata": {},
   "outputs": [
    {
     "name": "stdout",
     "output_type": "stream",
     "text": [
      "2\n"
     ]
    }
   ],
   "source": [
    "print (1 + True)"
   ]
  },
  {
   "cell_type": "code",
   "execution_count": 19,
   "metadata": {},
   "outputs": [
    {
     "data": {
      "text/plain": [
       "\"\\nОперации со строками\\n1. конкатенация\\n2. умножение строки на число позволит повторить её n раз\\n3. .upper() приводит строку к верхнему регистру\\n4. .lower() приводит строку к нижнему регистру\\n5. .capitalize() приводит первую букву к верхнему регистру\\n6. .replace('что заменить', 'на что заменить') - меняет в строке каждый указанный элемент на другой\\n9. len(mystring) считает количество символов в строке\\n\\n\\n\\n\""
      ]
     },
     "execution_count": 19,
     "metadata": {},
     "output_type": "execute_result"
    }
   ],
   "source": [
    "\"\"\"\n",
    "Операции со строками\n",
    "1. конкатенация\n",
    "2. умножение строки на число позволит повторить её n раз\n",
    "3. .upper() приводит строку к верхнему регистру\n",
    "4. .lower() приводит строку к нижнему регистру\n",
    "5. .capitalize() приводит первую букву к верхнему регистру\n",
    "6. .replace('что заменить', 'на что заменить') - меняет в строке каждый указанный элемент на другой\n",
    "9. len(mystring) считает количество символов в строке\n",
    "\n",
    "\n",
    "\n",
    "\"\"\""
   ]
  },
  {
   "cell_type": "code",
   "execution_count": 36,
   "metadata": {},
   "outputs": [
    {
     "name": "stdout",
     "output_type": "stream",
     "text": [
      "сегодня такой себе день для прогулки в парке\n",
      "сегодня хороший день для прогулки в парке\n"
     ]
    }
   ],
   "source": [
    "x = 'сегодня хороший день для прогулки в парке'\n",
    "n = x.replace('хороший', 'такой себе')\n",
    "print(n)\n",
    "print(x)\n",
    "#replace не меняет исходный элемент, но позволяет представить его иначе"
   ]
  },
  {
   "cell_type": "code",
   "execution_count": 27,
   "metadata": {},
   "outputs": [
    {
     "data": {
      "text/plain": [
       "3"
      ]
     },
     "execution_count": 27,
     "metadata": {},
     "output_type": "execute_result"
    }
   ],
   "source": [
    "1 + 2"
   ]
  },
  {
   "cell_type": "code",
   "execution_count": 28,
   "metadata": {},
   "outputs": [
    {
     "data": {
      "text/plain": [
       "'12'"
      ]
     },
     "execution_count": 28,
     "metadata": {},
     "output_type": "execute_result"
    }
   ],
   "source": [
    "'1' + '2'"
   ]
  },
  {
   "cell_type": "code",
   "execution_count": 34,
   "metadata": {},
   "outputs": [
    {
     "data": {
      "text/plain": [
       "'ХОЧУ КУШАЦЬ'"
      ]
     },
     "execution_count": 34,
     "metadata": {},
     "output_type": "execute_result"
    }
   ],
   "source": [
    "mystring = 'ХОЧУ кушаць'\n",
    "mystring.upper()"
   ]
  },
  {
   "cell_type": "code",
   "execution_count": 35,
   "metadata": {},
   "outputs": [
    {
     "data": {
      "text/plain": [
       "'хочу кушаць'"
      ]
     },
     "execution_count": 35,
     "metadata": {},
     "output_type": "execute_result"
    }
   ],
   "source": [
    "mystring.lower()"
   ]
  },
  {
   "cell_type": "code",
   "execution_count": null,
   "metadata": {},
   "outputs": [],
   "source": []
  }
 ],
 "metadata": {
  "kernelspec": {
   "display_name": "Python 3",
   "language": "python",
   "name": "python3"
  },
  "language_info": {
   "codemirror_mode": {
    "name": "ipython",
    "version": 3
   },
   "file_extension": ".py",
   "mimetype": "text/x-python",
   "name": "python",
   "nbconvert_exporter": "python",
   "pygments_lexer": "ipython3",
   "version": "3.8.3"
  }
 },
 "nbformat": 4,
 "nbformat_minor": 4
}
