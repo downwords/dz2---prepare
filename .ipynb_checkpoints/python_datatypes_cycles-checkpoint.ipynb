{
 "cells": [
  {
   "cell_type": "markdown",
   "metadata": {},
   "source": [
    "### Введение в типы данных и циклы"
   ]
  },
  {
   "cell_type": "code",
   "execution_count": 2,
   "metadata": {},
   "outputs": [
    {
     "data": {
      "text/plain": [
       "'\\n\\n1. Простые типы данных\\n2. Списки\\n3. Кортежи\\n4. Множества \\n5. Словари\\n6. Цикл while\\n7. Цикл for\\n\\n'"
      ]
     },
     "execution_count": 2,
     "metadata": {},
     "output_type": "execute_result"
    }
   ],
   "source": [
    "\"\"\"\n",
    "\n",
    "1. Простые типы данных\n",
    "2. Списки\n",
    "3. Кортежи\n",
    "4. Множества \n",
    "5. Словари\n",
    "6. Цикл while\n",
    "7. Цикл for\n",
    "\n",
    "\"\"\""
   ]
  },
  {
   "cell_type": "code",
   "execution_count": 3,
   "metadata": {},
   "outputs": [
    {
     "data": {
      "text/plain": [
       "'\\n1. Простые типы данных\\n    1. integer (int) целые\\n    2. float (float) числа с плавающей точкой\\n    3. string (str) строки\\n    4. boolean (bool) логический тип\\n    \\n# тип объекта можно узнать при помощи функции type()\\n# можно принудительно изменить тип данных вот так:\\nint() float() str() bool()\\n\\n\\n\\n'"
      ]
     },
     "execution_count": 3,
     "metadata": {},
     "output_type": "execute_result"
    }
   ],
   "source": [
    "\"\"\"\n",
    "1. Простые типы данных\n",
    "    1. integer (int) целые\n",
    "    2. float (float) числа с плавающей точкой\n",
    "    3. string (str) строки\n",
    "    4. boolean (bool) логический тип\n",
    "    \n",
    "# тип объекта можно узнать при помощи функции type()\n",
    "# можно принудительно изменить тип данных вот так:\n",
    "int() float() str() bool()\n",
    "\n",
    "\n",
    "\n",
    "\"\"\""
   ]
  },
  {
   "cell_type": "code",
   "execution_count": 4,
   "metadata": {},
   "outputs": [
    {
     "data": {
      "text/plain": [
       "int"
      ]
     },
     "execution_count": 4,
     "metadata": {},
     "output_type": "execute_result"
    }
   ],
   "source": [
    "integer = 10\n",
    "type(integer)"
   ]
  },
  {
   "cell_type": "code",
   "execution_count": 5,
   "metadata": {},
   "outputs": [
    {
     "data": {
      "text/plain": [
       "float"
      ]
     },
     "execution_count": 5,
     "metadata": {},
     "output_type": "execute_result"
    }
   ],
   "source": [
    "floating = 10.0\n",
    "type(floating)"
   ]
  },
  {
   "cell_type": "code",
   "execution_count": 6,
   "metadata": {},
   "outputs": [
    {
     "data": {
      "text/plain": [
       "bool"
      ]
     },
     "execution_count": 6,
     "metadata": {},
     "output_type": "execute_result"
    }
   ],
   "source": [
    "logical = True\n",
    "type(logical)"
   ]
  },
  {
   "cell_type": "code",
   "execution_count": 9,
   "metadata": {},
   "outputs": [
    {
     "name": "stdout",
     "output_type": "stream",
     "text": [
      "<class 'str'>\n",
      "<class 'str'>\n"
     ]
    }
   ],
   "source": [
    "string = 'some words'\n",
    "string_string = \"more words\"\n",
    "print(type(string))\n",
    "print(type(string_string))"
   ]
  },
  {
   "cell_type": "code",
   "execution_count": 16,
   "metadata": {},
   "outputs": [
    {
     "name": "stdout",
     "output_type": "stream",
     "text": [
      "Ваша годовая зарплата составляет 1000 условных единиц\n"
     ]
    }
   ],
   "source": [
    "salary = 1000\n",
    "x = ('Ваша годовая зарплата составляет ' + str(salary) + ' условных единиц')\n",
    "print(x)\n",
    "# преобразование int в str\n",
    "# конкатенация строк"
   ]
  },
  {
   "cell_type": "code",
   "execution_count": 17,
   "metadata": {},
   "outputs": [
    {
     "data": {
      "text/plain": [
       "10100"
      ]
     },
     "execution_count": 17,
     "metadata": {},
     "output_type": "execute_result"
    }
   ],
   "source": [
    "int('10000') + 100"
   ]
  },
  {
   "cell_type": "code",
   "execution_count": 18,
   "metadata": {},
   "outputs": [
    {
     "name": "stdout",
     "output_type": "stream",
     "text": [
      "2\n"
     ]
    }
   ],
   "source": [
    "print (1 + True)"
   ]
  },
  {
   "cell_type": "code",
   "execution_count": 19,
   "metadata": {},
   "outputs": [
    {
     "data": {
      "text/plain": [
       "\"\\nОперации со строками\\n1. конкатенация\\n2. умножение строки на число позволит повторить её n раз\\n3. .upper() приводит строку к верхнему регистру\\n4. .lower() приводит строку к нижнему регистру\\n5. .capitalize() приводит первую букву к верхнему регистру\\n6. .replace('что заменить', 'на что заменить') - меняет в строке каждый указанный элемент на другой\\n9. len(mystring) считает количество символов в строке\\n\\n\\n\\n\""
      ]
     },
     "execution_count": 19,
     "metadata": {},
     "output_type": "execute_result"
    }
   ],
   "source": [
    "\"\"\"\n",
    "Операции со строками\n",
    "1. конкатенация\n",
    "2. умножение строки на число позволит повторить её n раз\n",
    "3. .upper() приводит строку к верхнему регистру\n",
    "4. .lower() приводит строку к нижнему регистру\n",
    "5. .capitalize() приводит первую букву к верхнему регистру\n",
    "6. .replace('что заменить', 'на что заменить') - меняет в строке каждый указанный элемент на другой\n",
    "9. len(mystring) считает количество символов в строке\n",
    "\n",
    "\n",
    "\n",
    "\"\"\""
   ]
  },
  {
   "cell_type": "code",
   "execution_count": 36,
   "metadata": {},
   "outputs": [
    {
     "name": "stdout",
     "output_type": "stream",
     "text": [
      "сегодня такой себе день для прогулки в парке\n",
      "сегодня хороший день для прогулки в парке\n"
     ]
    }
   ],
   "source": [
    "x = 'сегодня хороший день для прогулки в парке'\n",
    "n = x.replace('хороший', 'такой себе')\n",
    "print(n)\n",
    "print(x)\n",
    "#replace не меняет исходный элемент, но позволяет представить его иначе"
   ]
  },
  {
   "cell_type": "code",
   "execution_count": 27,
   "metadata": {},
   "outputs": [
    {
     "data": {
      "text/plain": [
       "3"
      ]
     },
     "execution_count": 27,
     "metadata": {},
     "output_type": "execute_result"
    }
   ],
   "source": [
    "1 + 2"
   ]
  },
  {
   "cell_type": "code",
   "execution_count": 28,
   "metadata": {},
   "outputs": [
    {
     "data": {
      "text/plain": [
       "'12'"
      ]
     },
     "execution_count": 28,
     "metadata": {},
     "output_type": "execute_result"
    }
   ],
   "source": [
    "'1' + '2'"
   ]
  },
  {
   "cell_type": "code",
   "execution_count": 34,
   "metadata": {},
   "outputs": [
    {
     "data": {
      "text/plain": [
       "'ХОЧУ КУШАЦЬ'"
      ]
     },
     "execution_count": 34,
     "metadata": {},
     "output_type": "execute_result"
    }
   ],
   "source": [
    "mystring = 'ХОЧУ кушаць'\n",
    "mystring.upper()"
   ]
  },
  {
   "cell_type": "code",
   "execution_count": 35,
   "metadata": {},
   "outputs": [
    {
     "data": {
      "text/plain": [
       "'хочу кушаць'"
      ]
     },
     "execution_count": 35,
     "metadata": {},
     "output_type": "execute_result"
    }
   ],
   "source": [
    "mystring.lower()"
   ]
  },
  {
   "cell_type": "code",
   "execution_count": 42,
   "metadata": {},
   "outputs": [
    {
     "name": "stdout",
     "output_type": "stream",
     "text": [
      "И\n",
      "И\n"
     ]
    },
    {
     "data": {
      "text/plain": [
       "'ИД'"
      ]
     },
     "execution_count": 42,
     "metadata": {},
     "output_type": "execute_result"
    }
   ],
   "source": [
    "# так выглядят индексы\n",
    "\n",
    "my_string = 'ИНДЕКС'\n",
    "\n",
    "print(my_string[0])\n",
    "print(my_string[-6])\n",
    "# можно считать с начала любого индекса, с номера 0\n",
    "# можно считать с конца с номера -1\n",
    "# крайнее значение в индексе не считается, это была бы буква 'К'.\n",
    "\n",
    "\n",
    "my_string[0:4:2]"
   ]
  },
  {
   "cell_type": "code",
   "execution_count": 43,
   "metadata": {},
   "outputs": [
    {
     "data": {
      "text/plain": [
       "'\\nОператоры вхождения:\\nin - возвращает True, если элемент включён в объект\\nnot in - True, если элемент не присутствует в объекте\\n\\n'"
      ]
     },
     "execution_count": 43,
     "metadata": {},
     "output_type": "execute_result"
    }
   ],
   "source": [
    "\"\"\"\n",
    "Операторы вхождения:\n",
    "in - возвращает True, если элемент включён в объект\n",
    "not in - True, если элемент не присутствует в объекте\n",
    "\n",
    "\"\"\""
   ]
  },
  {
   "cell_type": "code",
   "execution_count": 72,
   "metadata": {},
   "outputs": [
    {
     "name": "stdout",
     "output_type": "stream",
     "text": [
      "Хеллоу, oleg, я вижу, ты тоже человек культуры и немного знаешь python, не так ли?\n"
     ]
    }
   ],
   "source": [
    "# f-строки - позволяют встраивать в строку выражение при помощи {}\n",
    "name = 'oleg'\n",
    "lang = 'python'\n",
    "\n",
    "\n",
    "t = f\"Хеллоу, {name}, я вижу, ты тоже человек культуры и немного знаешь {lang}, не так ли?\"\n",
    "\n",
    "print(t)\n"
   ]
  },
  {
   "cell_type": "code",
   "execution_count": 73,
   "metadata": {},
   "outputs": [
    {
     "name": "stdout",
     "output_type": "stream",
     "text": [
      "Hello oleg, как ты живёшь-поживаешь, знаешь ли ты python?\n"
     ]
    }
   ],
   "source": [
    "print('Hello {}, как ты живёшь-поживаешь, знаешь ли ты {}?'.format(name, lang))"
   ]
  },
  {
   "cell_type": "code",
   "execution_count": 75,
   "metadata": {},
   "outputs": [
    {
     "name": "stdout",
     "output_type": "stream",
     "text": [
      "Hello oleg, как ты живёшь-поживаешь, знаешь ли ты python?\n"
     ]
    }
   ],
   "source": [
    "print(f'Hello {name}, как ты живёшь-поживаешь, знаешь ли ты {lang}?')\n",
    "# при помощи f можно сделать наглядным код, но он только в 3 питоне появился"
   ]
  },
  {
   "cell_type": "code",
   "execution_count": 51,
   "metadata": {},
   "outputs": [
    {
     "data": {
      "text/plain": [
       "'l'"
      ]
     },
     "execution_count": 51,
     "metadata": {},
     "output_type": "execute_result"
    }
   ],
   "source": [
    "new_str = 'Hello_World'\n",
    "new_str[2]\n"
   ]
  },
  {
   "cell_type": "code",
   "execution_count": 52,
   "metadata": {},
   "outputs": [
    {
     "data": {
      "text/plain": [
       "'o'"
      ]
     },
     "execution_count": 52,
     "metadata": {},
     "output_type": "execute_result"
    }
   ],
   "source": [
    "new_str[-4]"
   ]
  },
  {
   "cell_type": "code",
   "execution_count": 53,
   "metadata": {},
   "outputs": [
    {
     "data": {
      "text/plain": [
       "'Hello'"
      ]
     },
     "execution_count": 53,
     "metadata": {},
     "output_type": "execute_result"
    }
   ],
   "source": [
    "new_str[0:5]"
   ]
  },
  {
   "cell_type": "code",
   "execution_count": 55,
   "metadata": {},
   "outputs": [
    {
     "data": {
      "text/plain": [
       "'World'"
      ]
     },
     "execution_count": 55,
     "metadata": {},
     "output_type": "execute_result"
    }
   ],
   "source": [
    "new_str[6:]\n",
    "# все, что после 6"
   ]
  },
  {
   "cell_type": "code",
   "execution_count": 59,
   "metadata": {},
   "outputs": [
    {
     "data": {
      "text/plain": [
       "'Hell'"
      ]
     },
     "execution_count": 59,
     "metadata": {},
     "output_type": "execute_result"
    }
   ],
   "source": [
    "new_str[:4]\n",
    "# все, что до 5"
   ]
  },
  {
   "cell_type": "code",
   "execution_count": 62,
   "metadata": {},
   "outputs": [
    {
     "name": "stdout",
     "output_type": "stream",
     "text": [
      "o_O\n"
     ]
    }
   ],
   "source": [
    "# проверка на вхождение элемента в объкта\n",
    "\n",
    "white_str = 'Hello_Godblessed_World'\n",
    "target = 'o_G'\n",
    "\n",
    "if target in white_str:\n",
    "    #in возвращает труе\n",
    "    print('o_O')"
   ]
  },
  {
   "cell_type": "code",
   "execution_count": 78,
   "metadata": {},
   "outputs": [
    {
     "name": "stdout",
     "output_type": "stream",
     "text": [
      "[1, 2, 3, 5, 4]\n"
     ]
    }
   ],
   "source": [
    "\"\"\"\n",
    "списки - набор каких-то элементов\n",
    "элементы упорядочены\n",
    "\n",
    "\"\"\"\n",
    "\n",
    "x = [1, 2, 3, 5, 4]\n",
    "\n",
    "print(x)"
   ]
  },
  {
   "cell_type": "code",
   "execution_count": 93,
   "metadata": {},
   "outputs": [
    {
     "name": "stdout",
     "output_type": "stream",
     "text": [
      "[['jan', 1000], ['feb', 800], ['mar', 900]]\n"
     ]
    }
   ],
   "source": [
    "u = ['jan', 'feb', 'mar']\n",
    "\n",
    "j = [['jan', 1000], ['feb', 800], ['mar', 900]]\n",
    "\n",
    "print(j)"
   ]
  },
  {
   "cell_type": "code",
   "execution_count": 80,
   "metadata": {},
   "outputs": [
    {
     "data": {
      "text/plain": [
       "list"
      ]
     },
     "execution_count": 80,
     "metadata": {},
     "output_type": "execute_result"
    }
   ],
   "source": [
    "type(j)"
   ]
  },
  {
   "cell_type": "code",
   "execution_count": 94,
   "metadata": {},
   "outputs": [
    {
     "name": "stdout",
     "output_type": "stream",
     "text": [
      "feb\n",
      "['feb', 800]\n",
      "feb\n"
     ]
    }
   ],
   "source": [
    "# индексация элементов в списке\n",
    "print(u[1])\n",
    "print(j[-2])\n",
    "print(j[1][0])"
   ]
  },
  {
   "cell_type": "code",
   "execution_count": 104,
   "metadata": {},
   "outputs": [
    {
     "name": "stdout",
     "output_type": "stream",
     "text": [
      "[['jan', 1000], ['feb', 800]]\n",
      "[['feb', 800], ['mar', 900]]\n",
      "[['jan', 1000], ['feb', 800], ['mar', 900]]\n"
     ]
    }
   ],
   "source": [
    "# срезы\n",
    "print(j[0:2])\n",
    "print(j[1:])\n",
    "print(j[:18])\n",
    "#по списку срез итерирует один раз, в данном случае достаёт номера 15-17 (они же 0-2), они же 1-3 в привычном счете с единицы"
   ]
  },
  {
   "cell_type": "code",
   "execution_count": 111,
   "metadata": {},
   "outputs": [
    {
     "name": "stdout",
     "output_type": "stream",
     "text": [
      "[['jan', 1000], ['feb', 800]]\n"
     ]
    }
   ],
   "source": [
    "print(j[-445:-1])\n",
    "#начинает с самого глубокого элемента, и идёт до предшествующего -1 (-1 - это март), берёт февраль и всё, конец\n",
    "#при этом расставляет их в том же порядке, в котором они есть в списке"
   ]
  },
  {
   "cell_type": "code",
   "execution_count": 121,
   "metadata": {},
   "outputs": [
    {
     "name": "stdout",
     "output_type": "stream",
     "text": [
      "[['sep', 1000], ['feb', 800], ['mar', 900]]\n"
     ]
    }
   ],
   "source": [
    "j[0][0] = 'sep'\n",
    "print(j)\n"
   ]
  },
  {
   "cell_type": "code",
   "execution_count": 129,
   "metadata": {},
   "outputs": [],
   "source": [
    "j[0:2] = ['aug', 999], ['nov', 990]\n",
    "# можно менять несколько элементов списка"
   ]
  },
  {
   "cell_type": "code",
   "execution_count": 127,
   "metadata": {},
   "outputs": [
    {
     "data": {
      "text/plain": [
       "[['aug', 999], ['nov', 990]]"
      ]
     },
     "execution_count": 127,
     "metadata": {},
     "output_type": "execute_result"
    }
   ],
   "source": [
    "j[0:2]"
   ]
  },
  {
   "cell_type": "code",
   "execution_count": 128,
   "metadata": {},
   "outputs": [
    {
     "name": "stdout",
     "output_type": "stream",
     "text": [
      "[['aug', 999], ['nov', 990], ['mar', 900]]\n"
     ]
    }
   ],
   "source": [
    "print(j)"
   ]
  },
  {
   "cell_type": "code",
   "execution_count": 130,
   "metadata": {},
   "outputs": [
    {
     "name": "stdout",
     "output_type": "stream",
     "text": [
      "1 3\n"
     ]
    }
   ],
   "source": [
    "auf, gain = 1, 3\n",
    "print(auf, gain)"
   ]
  },
  {
   "cell_type": "code",
   "execution_count": 143,
   "metadata": {},
   "outputs": [
    {
     "data": {
      "text/plain": [
       "10"
      ]
     },
     "execution_count": 143,
     "metadata": {},
     "output_type": "execute_result"
    }
   ],
   "source": [
    "a=3\n",
    "\n",
    "a+=1 # a будет 4\n",
    "\n",
    "a-=1 # a будет опять 3\n",
    "\n",
    "a+=7 # a будет 10\n",
    "\n",
    "a"
   ]
  },
  {
   "cell_type": "code",
   "execution_count": 139,
   "metadata": {},
   "outputs": [
    {
     "name": "stdout",
     "output_type": "stream",
     "text": [
      "1\n"
     ]
    }
   ],
   "source": [
    "x = 0\n",
    "y = 0\n",
    "\n",
    "data = [[15], [14], [13], [11],\n",
    "    [46], [97], [12], [90],\n",
    "    [77], [44], [51], [71],\n",
    "    [63], [42], [88], [93]]\n",
    "\n",
    "y += 1 \n",
    "\n",
    "\n",
    "\n",
    "print(y)\n",
    "\n"
   ]
  },
  {
   "cell_type": "code",
   "execution_count": 141,
   "metadata": {},
   "outputs": [
    {
     "name": "stdout",
     "output_type": "stream",
     "text": [
      "Hello world.\n"
     ]
    }
   ],
   "source": [
    "mystring = \"Hello\"\n",
    "\n",
    "mystring += \" world.\" # будет \"Hello word.\"\n",
    "print(mystring)"
   ]
  },
  {
   "cell_type": "code",
   "execution_count": 145,
   "metadata": {},
   "outputs": [
    {
     "name": "stdout",
     "output_type": "stream",
     "text": [
      "abcdefghijklmnop\n",
      "bcdefghijklmno\n",
      "cdefghijklmn\n",
      "defghijklm\n",
      "efghijkl\n",
      "fghijk\n",
      "ghij\n",
      "hi\n"
     ]
    }
   ],
   "source": [
    "s = \"abcdefghijklmnop\"\n",
    "\n",
    "while s != \"\":\n",
    "\n",
    "  print(s)\n",
    "\n",
    "  s = s[1:-1]\n",
    "    \n",
    "    #while - пока в строке не будет 0 символов, печатай s отнимая по одной букве слева и справа"
   ]
  },
  {
   "cell_type": "code",
   "execution_count": 156,
   "metadata": {},
   "outputs": [
    {
     "name": "stdout",
     "output_type": "stream",
     "text": [
      "8 руб. 50 коп.\n"
     ]
    }
   ],
   "source": [
    "def cena(rub, kop=0):\n",
    "    return \"%i руб. %i коп.\" % (rub, kop)\n",
    "\n",
    "\n",
    "\n",
    "c = cena(8, 50)\n",
    "\n",
    "print(c)"
   ]
  },
  {
   "cell_type": "code",
   "execution_count": 158,
   "metadata": {},
   "outputs": [
    {
     "ename": "SyntaxError",
     "evalue": "unexpected EOF while parsing (<ipython-input-158-cb55dbaaf118>, line 2)",
     "output_type": "error",
     "traceback": [
      "\u001b[1;36m  File \u001b[1;32m\"<ipython-input-158-cb55dbaaf118>\"\u001b[1;36m, line \u001b[1;32m2\u001b[0m\n\u001b[1;33m    def fib(n):\u001b[0m\n\u001b[1;37m               ^\u001b[0m\n\u001b[1;31mSyntaxError\u001b[0m\u001b[1;31m:\u001b[0m unexpected EOF while parsing\n"
     ]
    }
   ],
   "source": []
  },
  {
   "cell_type": "code",
   "execution_count": null,
   "metadata": {},
   "outputs": [],
   "source": []
  }
 ],
 "metadata": {
  "kernelspec": {
   "display_name": "Python 3",
   "language": "python",
   "name": "python3"
  },
  "language_info": {
   "codemirror_mode": {
    "name": "ipython",
    "version": 3
   },
   "file_extension": ".py",
   "mimetype": "text/x-python",
   "name": "python",
   "nbconvert_exporter": "python",
   "pygments_lexer": "ipython3",
   "version": "3.8.3"
  }
 },
 "nbformat": 4,
 "nbformat_minor": 4
}
