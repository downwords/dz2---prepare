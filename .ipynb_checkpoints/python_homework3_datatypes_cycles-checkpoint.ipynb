{
 "cells": [
  {
   "cell_type": "markdown",
   "metadata": {},
   "source": [
    "### Домашнее задание к лекции \"Введение в типы данных и циклы. Часть 1\""
   ]
  },
  {
   "cell_type": "markdown",
   "metadata": {},
   "source": [
    "### Задание 1"
   ]
  },
  {
   "cell_type": "code",
   "execution_count": 23,
   "metadata": {},
   "outputs": [
    {
     "name": "stdout",
     "output_type": "stream",
     "text": [
      "rm\n"
     ]
    }
   ],
   "source": [
    "x1 = 'watermelon'\n",
    "while len(x1) > 2:\n",
    "    x1 = x1[1:-1]\n",
    "    if len(x1) <= 2:\n",
    "        print(x1)\n",
    "\n"
   ]
  },
  {
   "cell_type": "markdown",
   "metadata": {},
   "source": [
    "### Задание 2"
   ]
  },
  {
   "cell_type": "code",
   "execution_count": 162,
   "metadata": {},
   "outputs": [
    {
     "name": "stdout",
     "output_type": "stream",
     "text": [
      "Введите число: 1\n",
      "Введите число: 0\n",
      "Результат:  1\n"
     ]
    }
   ],
   "source": [
    "y2 = 1\n",
    "x2 = ''\n",
    "z2 = 0\n",
    "\n",
    "while y2 != 0:\n",
    "    x2 = input('Введите число: ')\n",
    "    y2 = int(x2)\n",
    "    z2 = z2 + y2\n",
    "print('Результат: ', z2)\n"
   ]
  },
  {
   "cell_type": "markdown",
   "metadata": {},
   "source": [
    "### Задание 3"
   ]
  },
  {
   "cell_type": "code",
   "execution_count": 164,
   "metadata": {},
   "outputs": [
    {
     "name": "stdout",
     "output_type": "stream",
     "text": [
      "Идеальные пары:\n",
      "Alex и Emma\n",
      "Arthur и Kate\n",
      "John и Kira\n",
      "Peter и Liza\n",
      "Richard и Trisha\n"
     ]
    }
   ],
   "source": [
    "boys = ['Peter', 'Alex', 'John', 'Arthur', 'Richard']\n",
    "girls = ['Kate', 'Liza', 'Kira', 'Emma', 'Trisha']\n",
    "\n",
    "sorted_b3 = sorted(boys)\n",
    "sorted_g3 = sorted(girls)\n",
    "z3 = len(boys)\n",
    "num3 = 0\n",
    "\n",
    "\n",
    "if len(boys) == len(girls):\n",
    "    print('Идеальные пары:')\n",
    "\n",
    "    coupes = zip (sorted_b3, sorted_g3)\n",
    "    w3 = (list(coupes))\n",
    "\n",
    "    while z3 > 0:\n",
    "        print(w3[num3][0], 'и', (w3[num3][1]))\n",
    "        num3 += 1\n",
    "        z3 -= 1\n",
    "        \n",
    "else:\n",
    "    print('Внимание! Кто-то может остаться без пары!')\n"
   ]
  },
  {
   "cell_type": "markdown",
   "metadata": {},
   "source": [
    "### Задание 4"
   ]
  },
  {
   "cell_type": "code",
   "execution_count": 325,
   "metadata": {},
   "outputs": [
    {
     "name": "stdout",
     "output_type": "stream",
     "text": [
      "Средняя температура в странах: \n",
      "Thailand - 23.9 C\n",
      "Germany - 13.8 C\n",
      "Russia - 3.7 C\n",
      "Poland - 12.0 C\n"
     ]
    }
   ],
   "source": [
    "countries_temperature = [\n",
    "['Thailand', [75.2, 77, 78.8, 73.4, 68, 75.2, 77]],\n",
    "['Germany', [57.2, 55.4, 59, 59, 53.6]],\n",
    "['Russia', [35.6, 37.4, 39.2, 41, 42.8, 39.2, 35.6]],\n",
    "['Poland', [50, 50, 53.6, 57.2, 55.4, 55.4]]\n",
    "]\n",
    "\n",
    "country4 = ''\n",
    "fahr4 = 0\n",
    "cels4 = 0\n",
    "list4 = len(countries_temperature)\n",
    "ind4 = 0\n",
    "float4 = 0\n",
    "\n",
    "print('Средняя температура в странах: ')\n",
    "\n",
    "for list4 in countries_temperature:\n",
    "    float4 = len(countries_temperature[ind4][1])\n",
    "    country4 = countries_temperature[ind4][0]\n",
    "    fahr4 = sum(countries_temperature[ind4][1]) / float4 # чтобы понять, что нужно делить здесь, а не в принте, ушли ГОДЫ\n",
    "    cels4 = (fahr4 - 32) / 1.8\n",
    "    ind4 += 1\n",
    "    print(country4, '-', round(cels4, 1), 'C')"
   ]
  },
  {
   "cell_type": "markdown",
   "metadata": {},
   "source": [
    "### Задание 5"
   ]
  },
  {
   "cell_type": "code",
   "execution_count": null,
   "metadata": {},
   "outputs": [],
   "source": [
    "\"\"\"\n",
    "нужно взять каждую строку\n",
    "отнять от неё лишее слева и справа - будет имя\n",
    "эти имена поставить в список и проверить количество уникальных имён в нем\n",
    "также нужно отделить всё до второй запятой вкл - будет количество\n",
    "просмотры сложить на имена поделить\n",
    "\n",
    "\"\"\""
   ]
  }
 ],
 "metadata": {
  "kernelspec": {
   "display_name": "Python 3",
   "language": "python",
   "name": "python3"
  },
  "language_info": {
   "codemirror_mode": {
    "name": "ipython",
    "version": 3
   },
   "file_extension": ".py",
   "mimetype": "text/x-python",
   "name": "python",
   "nbconvert_exporter": "python",
   "pygments_lexer": "ipython3",
   "version": "3.8.3"
  }
 },
 "nbformat": 4,
 "nbformat_minor": 4
}
